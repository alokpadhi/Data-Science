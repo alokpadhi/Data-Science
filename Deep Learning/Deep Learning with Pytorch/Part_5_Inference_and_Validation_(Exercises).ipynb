{
  "nbformat": 4,
  "nbformat_minor": 0,
  "metadata": {
    "colab": {
      "name": "Part 5 - Inference and Validation (Exercises).ipynb",
      "version": "0.3.2",
      "provenance": []
    },
    "kernelspec": {
      "display_name": "Python 3",
      "language": "python",
      "name": "python3"
    }
  },
  "cells": [
    {
      "metadata": {
        "id": "b8tmMSQhzBKr",
        "colab_type": "text"
      },
      "cell_type": "markdown",
      "source": [
        "# Inference and Validation\n",
        "\n",
        "Now that you have a trained network, you can use it for making predictions. This is typically called **inference**, a term borrowed from statistics. However, neural networks have a tendency to perform *too well* on the training data and aren't able to generalize to data that hasn't been seen before. This is called **overfitting** and it impairs inference performance. To test for overfitting while training, we measure the performance on data not in the training set called the **validation** set. We avoid overfitting through regularization such as dropout while monitoring the validation performance during training. In this notebook, I'll show you how to do this in PyTorch. \n",
        "\n",
        "As usual, let's start by loading the dataset through torchvision. You'll learn more about torchvision and loading data in a later part. This time we'll be taking advantage of the test set which you can get by setting `train=False` here:\n",
        "\n",
        "```python\n",
        "testset = datasets.FashionMNIST('~/.pytorch/F_MNIST_data/', download=True, train=False, transform=transform)\n",
        "```\n",
        "\n",
        "The test set contains images just like the training set. Typically you'll see 10-20% of the original dataset held out for testing and validation with the rest being used for training."
      ]
    },
    {
      "metadata": {
        "id": "rZD20k8VzBKw",
        "colab_type": "code",
        "colab": {}
      },
      "cell_type": "code",
      "source": [
        "import torch\n",
        "from torchvision import datasets, transforms\n",
        "\n",
        "# Define a transform to normalize the data\n",
        "transform = transforms.Compose([transforms.ToTensor(),\n",
        "                                transforms.Normalize((0.5,), (0.5,))])\n",
        "# Download and load the training data\n",
        "trainset = datasets.FashionMNIST('~/.pytorch/F_MNIST_data/', download=True, train=True, transform=transform)\n",
        "trainloader = torch.utils.data.DataLoader(trainset, batch_size=64, shuffle=True)\n",
        "\n",
        "# Download and load the test data\n",
        "testset = datasets.FashionMNIST('~/.pytorch/F_MNIST_data/', download=True, train=False, transform=transform)\n",
        "testloader = torch.utils.data.DataLoader(testset, batch_size=64, shuffle=True)"
      ],
      "execution_count": 0,
      "outputs": []
    },
    {
      "metadata": {
        "id": "Qnbt4JTyzBK-",
        "colab_type": "text"
      },
      "cell_type": "markdown",
      "source": [
        "Here I'll create a model like normal, using the same one from my solution for part 4."
      ]
    },
    {
      "metadata": {
        "id": "CSVgD68DzBLB",
        "colab_type": "code",
        "colab": {}
      },
      "cell_type": "code",
      "source": [
        "from torch import nn, optim\n",
        "import torch.nn.functional as F\n",
        "\n",
        "class Classifier(nn.Module):\n",
        "    def __init__(self):\n",
        "        super().__init__()\n",
        "        self.fc1 = nn.Linear(784, 256)\n",
        "        self.fc2 = nn.Linear(256, 128)\n",
        "        self.fc3 = nn.Linear(128, 64)\n",
        "        self.fc4 = nn.Linear(64, 10)\n",
        "        \n",
        "    def forward(self, x):\n",
        "        # make sure input tensor is flattened\n",
        "        x = x.view(x.shape[0], -1)\n",
        "        \n",
        "        x = F.relu(self.fc1(x))\n",
        "        x = F.relu(self.fc2(x))\n",
        "        x = F.relu(self.fc3(x))\n",
        "        x = F.log_softmax(self.fc4(x), dim=1)\n",
        "        \n",
        "        return x"
      ],
      "execution_count": 0,
      "outputs": []
    },
    {
      "metadata": {
        "id": "1i3aFJEMzBLM",
        "colab_type": "text"
      },
      "cell_type": "markdown",
      "source": [
        "The goal of validation is to measure the model's performance on data that isn't part of the training set. Performance here is up to the developer to define though. Typically this is just accuracy, the percentage of classes the network predicted correctly. Other options are [precision and recall](https://en.wikipedia.org/wiki/Precision_and_recall#Definition_(classification_context)) and top-5 error rate. We'll focus on accuracy here. First I'll do a forward pass with one batch from the test set."
      ]
    },
    {
      "metadata": {
        "id": "RHXGqdO4zBLS",
        "colab_type": "code",
        "colab": {
          "base_uri": "https://localhost:8080/",
          "height": 34
        },
        "outputId": "4fb1ae65-b706-4f22-f520-3f519ed7e654"
      },
      "cell_type": "code",
      "source": [
        "model = Classifier()\n",
        "\n",
        "images, labels = next(iter(testloader))\n",
        "# Get the class probabilities\n",
        "ps = torch.exp(model(images))\n",
        "# Make sure the shape is appropriate, we should get 10 class probabilities for 64 examples\n",
        "print(ps.shape)"
      ],
      "execution_count": 11,
      "outputs": [
        {
          "output_type": "stream",
          "text": [
            "torch.Size([64, 10])\n"
          ],
          "name": "stdout"
        }
      ]
    },
    {
      "metadata": {
        "id": "4_MAxSlvzBLg",
        "colab_type": "text"
      },
      "cell_type": "markdown",
      "source": [
        "With the probabilities, we can get the most likely class using the `ps.topk` method. This returns the $k$ highest values. Since we just want the most likely class, we can use `ps.topk(1)`. This returns a tuple of the top-$k$ values and the top-$k$ indices. If the highest value is the fifth element, we'll get back 4 as the index."
      ]
    },
    {
      "metadata": {
        "id": "QVmCVsGGzBLj",
        "colab_type": "code",
        "colab": {
          "base_uri": "https://localhost:8080/",
          "height": 191
        },
        "outputId": "d9590e9b-c3a2-4c13-ba92-7deb01923777"
      },
      "cell_type": "code",
      "source": [
        "top_p, top_class = ps.topk(1, dim=1)\n",
        "# Look at the most likely classes for the first 10 examples\n",
        "print(top_class[:10,:])"
      ],
      "execution_count": 12,
      "outputs": [
        {
          "output_type": "stream",
          "text": [
            "tensor([[5],\n",
            "        [9],\n",
            "        [2],\n",
            "        [9],\n",
            "        [5],\n",
            "        [5],\n",
            "        [5],\n",
            "        [2],\n",
            "        [2],\n",
            "        [5]])\n"
          ],
          "name": "stdout"
        }
      ]
    },
    {
      "metadata": {
        "id": "C_cK21IdzBLw",
        "colab_type": "text"
      },
      "cell_type": "markdown",
      "source": [
        "Now we can check if the predicted classes match the labels. This is simple to do by equating `top_class` and `labels`, but we have to be careful of the shapes. Here `top_class` is a 2D tensor with shape `(64, 1)` while `labels` is 1D with shape `(64)`. To get the equality to work out the way we want, `top_class` and `labels` must have the same shape.\n",
        "\n",
        "If we do\n",
        "\n",
        "```python\n",
        "equals = top_class == labels\n",
        "```\n",
        "\n",
        "`equals` will have shape `(64, 64)`, try it yourself. What it's doing is comparing the one element in each row of `top_class` with each element in `labels` which returns 64 True/False boolean values for each row."
      ]
    },
    {
      "metadata": {
        "id": "R5LTmx2uzBLz",
        "colab_type": "code",
        "colab": {}
      },
      "cell_type": "code",
      "source": [
        "equals = top_class == labels.view(*top_class.shape)"
      ],
      "execution_count": 0,
      "outputs": []
    },
    {
      "metadata": {
        "id": "FmPcS4O8zBMB",
        "colab_type": "text"
      },
      "cell_type": "markdown",
      "source": [
        "Now we need to calculate the percentage of correct predictions. `equals` has binary values, either 0 or 1. This means that if we just sum up all the values and divide by the number of values, we get the percentage of correct predictions. This is the same operation as taking the mean, so we can get the accuracy with a call to `torch.mean`. If only it was that simple. If you try `torch.mean(equals)`, you'll get an error\n",
        "\n",
        "```\n",
        "RuntimeError: mean is not implemented for type torch.ByteTensor\n",
        "```\n",
        "\n",
        "This happens because `equals` has type `torch.ByteTensor` but `torch.mean` isn't implemented for tensors with that type. So we'll need to convert `equals` to a float tensor. Note that when we take `torch.mean` it returns a scalar tensor, to get the actual value as a float we'll need to do `accuracy.item()`."
      ]
    },
    {
      "metadata": {
        "id": "N4bcLbhPzBMG",
        "colab_type": "code",
        "colab": {
          "base_uri": "https://localhost:8080/",
          "height": 34
        },
        "outputId": "9d3b6424-8e44-4ac9-be4e-3056beeeda79"
      },
      "cell_type": "code",
      "source": [
        "accuracy = torch.mean(equals.type(torch.FloatTensor))\n",
        "print(f'Accuracy: {accuracy.item()*100}%')"
      ],
      "execution_count": 14,
      "outputs": [
        {
          "output_type": "stream",
          "text": [
            "Accuracy: 25.0%\n"
          ],
          "name": "stdout"
        }
      ]
    },
    {
      "metadata": {
        "id": "u2uReqn-zBMX",
        "colab_type": "text"
      },
      "cell_type": "markdown",
      "source": [
        "The network is untrained so it's making random guesses and we should see an accuracy around 10%. Now let's train our network and include our validation pass so we can measure how well the network is performing on the test set. Since we're not updating our parameters in the validation pass, we can speed up our code by turning off gradients using `torch.no_grad()`:\n",
        "\n",
        "```python\n",
        "# turn off gradients\n",
        "with torch.no_grad():\n",
        "    # validation pass here\n",
        "    for images, labels in testloader:\n",
        "        ...\n",
        "```\n",
        "\n",
        ">**Exercise:** Implement the validation loop below and print out the total accuracy after the loop. You can largely copy and paste the code from above, but I suggest typing it in because writing it out yourself is essential for building the skill. In general you'll always learn more by typing it rather than copy-pasting. You should be able to get an accuracy above 80%."
      ]
    },
    {
      "metadata": {
        "id": "K7NrOOlDzBMg",
        "colab_type": "code",
        "colab": {
          "base_uri": "https://localhost:8080/",
          "height": 2101
        },
        "outputId": "84298ccf-851d-4c4c-d6cd-8e5e426bcef4"
      },
      "cell_type": "code",
      "source": [
        "model = Classifier()\n",
        "criterion = nn.NLLLoss()\n",
        "optimizer = optim.Adam(model.parameters(), lr=0.003)\n",
        "\n",
        "epochs = 30\n",
        "steps = 0\n",
        "\n",
        "train_losses, test_losses = [], []\n",
        "for e in range(epochs):\n",
        "    running_loss = 0\n",
        "    for images, labels in trainloader:\n",
        "        \n",
        "        optimizer.zero_grad()\n",
        "        \n",
        "        log_ps = model(images)\n",
        "        loss = criterion(log_ps, labels)\n",
        "        loss.backward()\n",
        "        optimizer.step()\n",
        "        \n",
        "        running_loss += loss.item()\n",
        "        \n",
        "    else:\n",
        "        ## TODO: Implement the validation pass and print out the validation accuracy\n",
        "        test_loss = 0\n",
        "        accuracy = 0\n",
        "        \n",
        "        with torch.no_grad():\n",
        "          for images, labels in testloader:\n",
        "            log_ps = model(images)\n",
        "            loss = criterion(log_ps, labels)\n",
        "            \n",
        "            test_loss += loss\n",
        "            \n",
        "            ps = torch.exp(log_ps)\n",
        "            top_p, top_class = ps.topk(1, dim=1)\n",
        "            equals = top_class == labels.view(*top_class.shape)\n",
        "            accuracy += torch.mean(equals.type(torch.FloatTensor))\n",
        "        \n",
        "        train_losses.append(running_loss/len(trainloader))\n",
        "        test_losses.append(test_loss/len(testloader))\n",
        "        \n",
        "        print(\"Epoch: {} == {}\".format(e+1, epochs))\n",
        "        print(\"Trainging loss {:.3f}\".format(running_loss/len(trainloader)))\n",
        "        print(\"Testing loss {:.3f}\".format(test_loss/len(testloader)))\n",
        "        print(\"Test Accuracy: {:.3f}\".format(accuracy/len(testloader)))\n",
        "#        print(f'Accuracy: {accuracy.item()*100}%')\n",
        "        "
      ],
      "execution_count": 17,
      "outputs": [
        {
          "output_type": "stream",
          "text": [
            "Epoch: 1 == 30\n",
            "Trainging loss 0.515\n",
            "Testing loss 0.455\n",
            "Test Accuracy: 0.832\n",
            "Epoch: 2 == 30\n",
            "Trainging loss 0.393\n",
            "Testing loss 0.404\n",
            "Test Accuracy: 0.854\n",
            "Epoch: 3 == 30\n",
            "Trainging loss 0.358\n",
            "Testing loss 0.384\n",
            "Test Accuracy: 0.862\n",
            "Epoch: 4 == 30\n",
            "Trainging loss 0.333\n",
            "Testing loss 0.389\n",
            "Test Accuracy: 0.862\n",
            "Epoch: 5 == 30\n",
            "Trainging loss 0.315\n",
            "Testing loss 0.400\n",
            "Test Accuracy: 0.858\n",
            "Epoch: 6 == 30\n",
            "Trainging loss 0.304\n",
            "Testing loss 0.374\n",
            "Test Accuracy: 0.867\n",
            "Epoch: 7 == 30\n",
            "Trainging loss 0.294\n",
            "Testing loss 0.396\n",
            "Test Accuracy: 0.869\n",
            "Epoch: 8 == 30\n",
            "Trainging loss 0.284\n",
            "Testing loss 0.362\n",
            "Test Accuracy: 0.875\n",
            "Epoch: 9 == 30\n",
            "Trainging loss 0.277\n",
            "Testing loss 0.386\n",
            "Test Accuracy: 0.874\n",
            "Epoch: 10 == 30\n",
            "Trainging loss 0.265\n",
            "Testing loss 0.359\n",
            "Test Accuracy: 0.876\n",
            "Epoch: 11 == 30\n",
            "Trainging loss 0.258\n",
            "Testing loss 0.383\n",
            "Test Accuracy: 0.874\n",
            "Epoch: 12 == 30\n",
            "Trainging loss 0.256\n",
            "Testing loss 0.376\n",
            "Test Accuracy: 0.875\n",
            "Epoch: 13 == 30\n",
            "Trainging loss 0.247\n",
            "Testing loss 0.382\n",
            "Test Accuracy: 0.874\n",
            "Epoch: 14 == 30\n",
            "Trainging loss 0.244\n",
            "Testing loss 0.364\n",
            "Test Accuracy: 0.878\n",
            "Epoch: 15 == 30\n",
            "Trainging loss 0.234\n",
            "Testing loss 0.409\n",
            "Test Accuracy: 0.871\n",
            "Epoch: 16 == 30\n",
            "Trainging loss 0.230\n",
            "Testing loss 0.382\n",
            "Test Accuracy: 0.878\n",
            "Epoch: 17 == 30\n",
            "Trainging loss 0.230\n",
            "Testing loss 0.398\n",
            "Test Accuracy: 0.876\n",
            "Epoch: 18 == 30\n",
            "Trainging loss 0.224\n",
            "Testing loss 0.383\n",
            "Test Accuracy: 0.882\n",
            "Epoch: 19 == 30\n",
            "Trainging loss 0.219\n",
            "Testing loss 0.396\n",
            "Test Accuracy: 0.876\n",
            "Epoch: 20 == 30\n",
            "Trainging loss 0.216\n",
            "Testing loss 0.390\n",
            "Test Accuracy: 0.877\n",
            "Epoch: 21 == 30\n",
            "Trainging loss 0.218\n",
            "Testing loss 0.412\n",
            "Test Accuracy: 0.879\n",
            "Epoch: 22 == 30\n",
            "Trainging loss 0.207\n",
            "Testing loss 0.462\n",
            "Test Accuracy: 0.868\n",
            "Epoch: 23 == 30\n",
            "Trainging loss 0.213\n",
            "Testing loss 0.396\n",
            "Test Accuracy: 0.876\n",
            "Epoch: 24 == 30\n",
            "Trainging loss 0.202\n",
            "Testing loss 0.402\n",
            "Test Accuracy: 0.882\n",
            "Epoch: 25 == 30\n",
            "Trainging loss 0.200\n",
            "Testing loss 0.424\n",
            "Test Accuracy: 0.884\n",
            "Epoch: 26 == 30\n",
            "Trainging loss 0.195\n",
            "Testing loss 0.414\n",
            "Test Accuracy: 0.878\n",
            "Epoch: 27 == 30\n",
            "Trainging loss 0.192\n",
            "Testing loss 0.419\n",
            "Test Accuracy: 0.887\n",
            "Epoch: 28 == 30\n",
            "Trainging loss 0.192\n",
            "Testing loss 0.427\n",
            "Test Accuracy: 0.882\n",
            "Epoch: 29 == 30\n",
            "Trainging loss 0.196\n",
            "Testing loss 0.401\n",
            "Test Accuracy: 0.886\n",
            "Epoch: 30 == 30\n",
            "Trainging loss 0.183\n",
            "Testing loss 0.417\n",
            "Test Accuracy: 0.882\n"
          ],
          "name": "stdout"
        }
      ]
    },
    {
      "metadata": {
        "id": "06NWQeTx7v5G",
        "colab_type": "code",
        "colab": {
          "base_uri": "https://localhost:8080/",
          "height": 364
        },
        "outputId": "74e9956e-20a9-493b-fead-ab703ba2093e"
      },
      "cell_type": "code",
      "source": [
        "import matplotlib.pyplot as plt\n",
        "plt.plot(train_losses, label='Training loss', color='blue')\n",
        "plt.plot(test_losses, label='Validation loss', color='orange')\n",
        "plt.legend(frameon=False)"
      ],
      "execution_count": 20,
      "outputs": [
        {
          "output_type": "execute_result",
          "data": {
            "text/plain": [
              "<matplotlib.legend.Legend at 0x7fd348c59d30>"
            ]
          },
          "metadata": {
            "tags": []
          },
          "execution_count": 20
        },
        {
          "output_type": "display_data",
          "data": {
            "image/png": "[encoded data removed]",
            "text/plain": [
              "<Figure size 576x396 with 1 Axes>"
            ]
          },
          "metadata": {
            "tags": []
          }
        }
      ]
    },
    {
      "metadata": {
        "id": "8fWUXkdZzBMp",
        "colab_type": "text"
      },
      "cell_type": "markdown",
      "source": [
        "## Overfitting\n",
        "\n",
        "If we look at the training and validation losses as we train the network, we can see a phenomenon known as overfitting.\n",
        "\n",
        "<img src='https://github.com/udacity/deep-learning-v2-pytorch/blob/master/intro-to-pytorch/assets/overfitting.png?raw=1' width=450px>\n",
        "\n",
        "The network learns the training set better and better, resulting in lower training losses. However, it starts having problems generalizing to data outside the training set leading to the validation loss increasing. The ultimate goal of any deep learning model is to make predictions on new data, so we should strive to get the lowest validation loss possible. One option is to use the version of the model with the lowest validation loss, here the one around 8-10 training epochs. This strategy is called *early-stopping*. In practice, you'd save the model frequently as you're training then later choose the model with the lowest validation loss.\n",
        "\n",
        "The most common method to reduce overfitting (outside of early-stopping) is *dropout*, where we randomly drop input units. This forces the network to share information between weights, increasing it's ability to generalize to new data. Adding dropout in PyTorch is straightforward using the [`nn.Dropout`](https://pytorch.org/docs/stable/nn.html#torch.nn.Dropout) module.\n",
        "\n",
        "```python\n",
        "class Classifier(nn.Module):\n",
        "    def __init__(self):\n",
        "        super().__init__()\n",
        "        self.fc1 = nn.Linear(784, 256)\n",
        "        self.fc2 = nn.Linear(256, 128)\n",
        "        self.fc3 = nn.Linear(128, 64)\n",
        "        self.fc4 = nn.Linear(64, 10)\n",
        "        \n",
        "        # Dropout module with 0.2 drop probability\n",
        "        self.dropout = nn.Dropout(p=0.2)\n",
        "        \n",
        "    def forward(self, x):\n",
        "        # make sure input tensor is flattened\n",
        "        x = x.view(x.shape[0], -1)\n",
        "        \n",
        "        # Now with dropout\n",
        "        x = self.dropout(F.relu(self.fc1(x)))\n",
        "        x = self.dropout(F.relu(self.fc2(x)))\n",
        "        x = self.dropout(F.relu(self.fc3(x)))\n",
        "        \n",
        "        # output so no dropout here\n",
        "        x = F.log_softmax(self.fc4(x), dim=1)\n",
        "        \n",
        "        return x\n",
        "```\n",
        "\n",
        "During training we want to use dropout to prevent overfitting, but during inference we want to use the entire network. So, we need to turn off dropout during validation, testing, and whenever we're using the network to make predictions. To do this, you use `model.eval()`. This sets the model to evaluation mode where the dropout probability is 0. You can turn dropout back on by setting the model to train mode with `model.train()`. In general, the pattern for the validation loop will look like this, where you turn off gradients, set the model to evaluation mode, calculate the validation loss and metric, then set the model back to train mode.\n",
        "\n",
        "```python\n",
        "# turn off gradients\n",
        "with torch.no_grad():\n",
        "    \n",
        "    # set model to evaluation mode\n",
        "    model.eval()\n",
        "    \n",
        "    # validation pass here\n",
        "    for images, labels in testloader:\n",
        "        ...\n",
        "\n",
        "# set model back to train mode\n",
        "model.train()\n",
        "```"
      ]
    },
    {
      "metadata": {
        "id": "b0LfFrXgzBMr",
        "colab_type": "text"
      },
      "cell_type": "markdown",
      "source": [
        "> **Exercise:** Add dropout to your model and train it on Fashion-MNIST again. See if you can get a lower validation loss or higher accuracy."
      ]
    },
    {
      "metadata": {
        "id": "9ecatDlWzBMu",
        "colab_type": "code",
        "colab": {}
      },
      "cell_type": "code",
      "source": [
        "## TODO: Define your model with dropout added\n",
        "class Classifier(nn.Module):\n",
        "  def __init__(self):\n",
        "    super().__init__()\n",
        "    self.fc1 = nn.Linear(784, 256)\n",
        "    self.fc2 = nn.Linear(256, 128)\n",
        "    self.fc3 = nn.Linear(128, 64)\n",
        "    self.fc4 = nn.Linear(64, 10)\n",
        "    \n",
        "    # dropout module with 0.2 probability\n",
        "    self.dropout = nn.Dropout(p=0.2)\n",
        "    \n",
        "  def forward(self, x):\n",
        "    # make the input tensor flatten\n",
        "    x = x.view(x.shape[0], -1)\n",
        "    \n",
        "    x = self.dropout(F.relu(self.fc1(x)))\n",
        "    x = self.dropout(F.relu(self.fc2(x)))\n",
        "    x = self.dropout(F.relu(self.fc3(x)))\n",
        "    \n",
        "    # no dropout for the output layer\n",
        "    x = F.log_softmax(self.fc4(x), dim=1)\n",
        "    \n",
        "    return x"
      ],
      "execution_count": 0,
      "outputs": []
    },
    {
      "metadata": {
        "id": "1UNOZfKKzBM0",
        "colab_type": "code",
        "colab": {
          "base_uri": "https://localhost:8080/",
          "height": 538
        },
        "outputId": "fa46591c-b790-4f97-bcac-7cce626393cb"
      },
      "cell_type": "code",
      "source": [
        "## TODO: Train your model with dropout, and monitor the training progress with the validation loss and accuracy\n",
        "model = Classifier()\n",
        "criterion = nn.NLLLoss()\n",
        "optimizer = optim.Adam(model.parameters(), lr=0.003)\n",
        "\n",
        "epochs = 30\n",
        "steps = 0\n",
        "\n",
        "train_losses, test_losses = [], []\n",
        "\n",
        "for e in range(epochs):\n",
        "  running_loss = 0\n",
        "  for images, labels in trainloader:\n",
        "    \n",
        "    optimizer.zero_grad()\n",
        "    \n",
        "    log_ps = model(images)\n",
        "    loss = criterion(log_ps, labels)\n",
        "    \n",
        "    loss.backward()\n",
        "    optimizer.step()\n",
        "    \n",
        "    running_loss += loss.item()\n",
        "  else:\n",
        "    test_loss = 0\n",
        "    accuracy = 0\n",
        "    with torch.no_grad():\n",
        "      model.eval()\n",
        "      for images, labels in testloader:\n",
        "        log_ps = model(images)\n",
        "        loss = criterion(log_ps, labels)\n",
        "        \n",
        "        test_loss += loss\n",
        "        \n",
        "        ps = torch.exp(log_ps)\n",
        "        top_p, top_class = ps.topk(1, dim=1)\n",
        "        equals = top_class == labels.view(*top_class.shape)\n",
        "        accuracy += torch.mean(equals.type(torch.FloatTensor))\n",
        "    \n",
        "    model.train()\n",
        "    train_losses.append(running_loss/len(trainloader))\n",
        "    test_losses.append(test_loss/len(testloader))\n",
        "    \n",
        "    print(\"Epoch: {}/{}.. \".format(e+1, epochs),\n",
        "              \"Training Loss: {:.3f}.. \".format(train_losses[-1]),\n",
        "              \"Test Loss: {:.3f}.. \".format(test_losses[-1]),\n",
        "              \"Test Accuracy: {:.3f}\".format(accuracy/len(testloader)))"
      ],
      "execution_count": 22,
      "outputs": [
        {
          "output_type": "stream",
          "text": [
            "Epoch: 1/30..  Training Loss: 0.608..  Test Loss: 0.462..  Test Accuracy: 0.831\n",
            "Epoch: 2/30..  Training Loss: 0.485..  Test Loss: 0.461..  Test Accuracy: 0.835\n",
            "Epoch: 3/30..  Training Loss: 0.459..  Test Loss: 0.421..  Test Accuracy: 0.853\n",
            "Epoch: 4/30..  Training Loss: 0.434..  Test Loss: 0.419..  Test Accuracy: 0.847\n",
            "Epoch: 5/30..  Training Loss: 0.427..  Test Loss: 0.418..  Test Accuracy: 0.849\n",
            "Epoch: 6/30..  Training Loss: 0.415..  Test Loss: 0.401..  Test Accuracy: 0.859\n",
            "Epoch: 7/30..  Training Loss: 0.406..  Test Loss: 0.382..  Test Accuracy: 0.866\n",
            "Epoch: 8/30..  Training Loss: 0.399..  Test Loss: 0.398..  Test Accuracy: 0.859\n",
            "Epoch: 9/30..  Training Loss: 0.395..  Test Loss: 0.379..  Test Accuracy: 0.866\n",
            "Epoch: 10/30..  Training Loss: 0.390..  Test Loss: 0.381..  Test Accuracy: 0.864\n",
            "Epoch: 11/30..  Training Loss: 0.385..  Test Loss: 0.403..  Test Accuracy: 0.858\n",
            "Epoch: 12/30..  Training Loss: 0.378..  Test Loss: 0.383..  Test Accuracy: 0.861\n",
            "Epoch: 13/30..  Training Loss: 0.382..  Test Loss: 0.378..  Test Accuracy: 0.865\n",
            "Epoch: 14/30..  Training Loss: 0.386..  Test Loss: 0.386..  Test Accuracy: 0.867\n",
            "Epoch: 15/30..  Training Loss: 0.365..  Test Loss: 0.368..  Test Accuracy: 0.873\n",
            "Epoch: 16/30..  Training Loss: 0.366..  Test Loss: 0.372..  Test Accuracy: 0.874\n",
            "Epoch: 17/30..  Training Loss: 0.361..  Test Loss: 0.389..  Test Accuracy: 0.864\n",
            "Epoch: 18/30..  Training Loss: 0.358..  Test Loss: 0.376..  Test Accuracy: 0.869\n",
            "Epoch: 19/30..  Training Loss: 0.360..  Test Loss: 0.401..  Test Accuracy: 0.864\n",
            "Epoch: 20/30..  Training Loss: 0.356..  Test Loss: 0.372..  Test Accuracy: 0.871\n",
            "Epoch: 21/30..  Training Loss: 0.353..  Test Loss: 0.375..  Test Accuracy: 0.866\n",
            "Epoch: 22/30..  Training Loss: 0.350..  Test Loss: 0.376..  Test Accuracy: 0.867\n",
            "Epoch: 23/30..  Training Loss: 0.352..  Test Loss: 0.373..  Test Accuracy: 0.873\n",
            "Epoch: 24/30..  Training Loss: 0.351..  Test Loss: 0.371..  Test Accuracy: 0.875\n",
            "Epoch: 25/30..  Training Loss: 0.345..  Test Loss: 0.369..  Test Accuracy: 0.873\n",
            "Epoch: 26/30..  Training Loss: 0.351..  Test Loss: 0.387..  Test Accuracy: 0.872\n",
            "Epoch: 27/30..  Training Loss: 0.344..  Test Loss: 0.362..  Test Accuracy: 0.874\n",
            "Epoch: 28/30..  Training Loss: 0.340..  Test Loss: 0.361..  Test Accuracy: 0.883\n",
            "Epoch: 29/30..  Training Loss: 0.343..  Test Loss: 0.367..  Test Accuracy: 0.875\n",
            "Epoch: 30/30..  Training Loss: 0.339..  Test Loss: 0.380..  Test Accuracy: 0.872\n"
          ],
          "name": "stdout"
        }
      ]
    },
    {
      "metadata": {
        "id": "yGnXLu36FZDk",
        "colab_type": "code",
        "colab": {
          "base_uri": "https://localhost:8080/",
          "height": 364
        },
        "outputId": "81b7273c-d037-4e43-f6d3-47de34be28c5"
      },
      "cell_type": "code",
      "source": [
        "import matplotlib.pyplot as plt\n",
        "\n",
        "plt.plot(train_losses, label='Training loss', color='blue')\n",
        "plt.plot(test_losses, label='Validation loss', color='orange')\n",
        "plt.legend(frameon=False)"
      ],
      "execution_count": 23,
      "outputs": [
        {
          "output_type": "execute_result",
          "data": {
            "text/plain": [
              "<matplotlib.legend.Legend at 0x7fd3461d38d0>"
            ]
          },
          "metadata": {
            "tags": []
          },
          "execution_count": 23
        },
        {
          "output_type": "display_data",
          "data": {
            "image/png": "[encoded data removed]",
            "text/plain": [
              "<Figure size 576x396 with 1 Axes>"
            ]
          },
          "metadata": {
            "tags": []
          }
        }
      ]
    },
    {
      "metadata": {
        "id": "PLa8St42zBM8",
        "colab_type": "text"
      },
      "cell_type": "markdown",
      "source": [
        "## Inference\n",
        "\n",
        "Now that the model is trained, we can use it for inference. We've done this before, but now we need to remember to set the model in inference mode with `model.eval()`. You'll also want to turn off autograd with the `torch.no_grad()` context."
      ]
    },
    {
      "metadata": {
        "id": "uDD7vYtNzBNB",
        "colab_type": "code",
        "colab": {
          "base_uri": "https://localhost:8080/",
          "height": 221
        },
        "outputId": "a8894c12-0b67-4aa5-97e1-20f9afed71c4"
      },
      "cell_type": "code",
      "source": [
        "# Import helper module (should be in the repo)\n",
        "import helper\n",
        "\n",
        "# Test out your network!\n",
        "\n",
        "model.eval()\n",
        "\n",
        "dataiter = iter(testloader)\n",
        "images, labels = dataiter.next()\n",
        "img = images[0]\n",
        "# Convert 2D image to 1D vector\n",
        "img = img.view(1, 784)\n",
        "\n",
        "# Calculate the class probabilities (softmax) for img\n",
        "with torch.no_grad():\n",
        "    output = model.forward(img)\n",
        "\n",
        "ps = torch.exp(output)\n",
        "\n",
        "# Plot the image and probabilities\n",
        "helper.view_classify(img.view(1, 28, 28), ps, version='Fashion')"
      ],
      "execution_count": 24,
      "outputs": [
        {
          "output_type": "display_data",
          "data": {
            "image/png": "[encoded data removed]",
            "text/plain": [
              "<Figure size 432x648 with 2 Axes>"
            ]
          },
          "metadata": {
            "tags": []
          }
        }
      ]
    },
    {
      "metadata": {
        "id": "-ED_sYkHzBNO",
        "colab_type": "text"
      },
      "cell_type": "markdown",
      "source": [
        "## Next Up!\n",
        "\n",
        "In the next part, I'll show you how to save your trained models. In general, you won't want to train a model everytime you need it. Instead, you'll train once, save it, then load the model when you want to train more or use if for inference."
      ]
    },
    {
      "metadata": {
        "id": "4bUCYCScF1x3",
        "colab_type": "code",
        "colab": {}
      },
      "cell_type": "code",
      "source": [
        ""
      ],
      "execution_count": 0,
      "outputs": []
    }
  ]
}