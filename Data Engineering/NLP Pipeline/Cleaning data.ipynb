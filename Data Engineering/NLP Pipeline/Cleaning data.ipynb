{
 "cells": [
  {
   "cell_type": "markdown",
   "metadata": {},
   "source": [
    "# Cleaning Udacity Catalog"
   ]
  },
  {
   "cell_type": "markdown",
   "metadata": {},
   "source": [
    "## Step 1: Getting text from Udacity's course catalog page"
   ]
  },
  {
   "cell_type": "code",
   "execution_count": 1,
   "metadata": {
    "collapsed": true
   },
   "outputs": [],
   "source": [
    "import requests\n",
    "from bs4 import BeautifulSoup"
   ]
  },
  {
   "cell_type": "code",
   "execution_count": 2,
   "metadata": {
    "collapsed": true
   },
   "outputs": [],
   "source": [
    "# fetch the web page\n",
    "r = requests.get('https://in.udacity.com/courses/all')"
   ]
  },
  {
   "cell_type": "markdown",
   "metadata": {},
   "source": [
    "## Step 2: Use BeautifulSoup to get the HTML tags"
   ]
  },
  {
   "cell_type": "code",
   "execution_count": 4,
   "metadata": {},
   "outputs": [],
   "source": [
    "soup = BeautifulSoup(r.text, \"lxml\")"
   ]
  },
  {
   "cell_type": "markdown",
   "metadata": {},
   "source": [
    "## Step 3: Find all Course summaries"
   ]
  },
  {
   "cell_type": "code",
   "execution_count": 5,
   "metadata": {},
   "outputs": [
    {
     "name": "stdout",
     "output_type": "stream",
     "text": [
      "Number of courses: 226\n"
     ]
    }
   ],
   "source": [
    "summaries = soup.find_all(\"div\", {\"class\": \"course-summary-card\"})\n",
    "print(\"Number of courses: {}\".format(len(summaries)))"
   ]
  },
  {
   "cell_type": "markdown",
   "metadata": {},
   "source": [
    "## Step 4: Inspect the first summary to find selectors for the course name and school\n",
    "Tip: `.prettify()` is a super helpful method BeautifulSoup provides to output html in a nicely indented form! Make sure to use `print()` to ensure whitespace is displayed properly."
   ]
  },
  {
   "cell_type": "code",
   "execution_count": 7,
   "metadata": {},
   "outputs": [
    {
     "name": "stdout",
     "output_type": "stream",
     "text": [
      "<div _ngcontent-sc268=\"\" class=\"course-summary-card row row-gap-medium catalog-card nanodegree-card ng-star-inserted\">\n",
      " <ir-catalog-card _ngcontent-sc268=\"\" _nghost-sc271=\"\">\n",
      "  <div _ngcontent-sc271=\"\" class=\"card-wrapper is-collapsed\">\n",
      "   <div _ngcontent-sc271=\"\" class=\"card__inner card mb-0\">\n",
      "    <div _ngcontent-sc271=\"\" class=\"card__inner--upper\">\n",
      "     <div _ngcontent-sc271=\"\" class=\"image_wrapper hidden-md-down\">\n",
      "      <a _ngcontent-sc271=\"\" href=\"/course/data-engineer-nanodegree--nd027\">\n",
      "       <!-- -->\n",
      "       <div _ngcontent-sc271=\"\" class=\"image-container ng-star-inserted\" style=\"background-image:url(https://d20vrrgs8k4bvw.cloudfront.net/images/degrees/nd027/nd-card.jpg);\">\n",
      "        <div _ngcontent-sc271=\"\" class=\"image-overlay\">\n",
      "        </div>\n",
      "       </div>\n",
      "      </a>\n",
      "      <!-- -->\n",
      "     </div>\n",
      "     <div _ngcontent-sc271=\"\" class=\"card-content\">\n",
      "      <!-- -->\n",
      "      <!-- -->\n",
      "      <div _ngcontent-sc271=\"\" class=\"category-wrapper\">\n",
      "       <span _ngcontent-sc271=\"\" class=\"mobile-icon\">\n",
      "       </span>\n",
      "       <!-- -->\n",
      "       <h4 _ngcontent-sc271=\"\" class=\"category ng-star-inserted\">\n",
      "        School of Data Science\n",
      "       </h4>\n",
      "      </div>\n",
      "      <h3 _ngcontent-sc271=\"\" class=\"card-heading\">\n",
      "       <a _ngcontent-sc271=\"\" class=\"capitalize\" href=\"/course/data-engineer-nanodegree--nd027\">\n",
      "        Data Engineer\n",
      "       </a>\n",
      "      </h3>\n",
      "      <div _ngcontent-sc271=\"\" class=\"right-sub\">\n",
      "       <!-- -->\n",
      "       <div _ngcontent-sc271=\"\" class=\"skills ng-star-inserted\">\n",
      "        <h4 _ngcontent-sc271=\"\">\n",
      "         Skills Covered\n",
      "        </h4>\n",
      "        <span _ngcontent-sc271=\"\" class=\"truncate-content\">\n",
      "         <!-- -->\n",
      "         <span _ngcontent-sc271=\"\" class=\"ng-star-inserted\">\n",
      "          Data Modeling,\n",
      "         </span>\n",
      "         <span _ngcontent-sc271=\"\" class=\"ng-star-inserted\">\n",
      "          Data Pipelines,\n",
      "         </span>\n",
      "         <span _ngcontent-sc271=\"\" class=\"ng-star-inserted\">\n",
      "          Data Lakes,\n",
      "         </span>\n",
      "         <span _ngcontent-sc271=\"\" class=\"ng-star-inserted\">\n",
      "          Spark,\n",
      "         </span>\n",
      "         <span _ngcontent-sc271=\"\" class=\"ng-star-inserted\">\n",
      "          Airflow\n",
      "         </span>\n",
      "        </span>\n",
      "       </div>\n",
      "       <!-- -->\n",
      "       <div _ngcontent-sc271=\"\" class=\"hidden-md-up level\">\n",
      "        <span _ngcontent-sc271=\"\" class=\"course-level course-level-intermediate\" classname=\"course-level course-level-intermediate\">\n",
      "        </span>\n",
      "        <span _ngcontent-sc271=\"\" class=\"capitalize\">\n",
      "         intermediate\n",
      "        </span>\n",
      "       </div>\n",
      "      </div>\n",
      "     </div>\n",
      "    </div>\n",
      "    <div _ngcontent-sc271=\"\" class=\"card__inner--lower hidden-sm-down\">\n",
      "     <div _ngcontent-sc271=\"\" class=\"left uppercase blue expander pointer\">\n",
      "      <!-- -->\n",
      "      <span _ngcontent-sc271=\"\" class=\"ng-star-inserted\">\n",
      "       Nanodegree Details\n",
      "      </span>\n",
      "      <!-- -->\n",
      "     </div>\n",
      "     <div _ngcontent-sc271=\"\" class=\"right\">\n",
      "      <!-- -->\n",
      "      <span _ngcontent-sc271=\"\" class=\"caption text-right level ng-star-inserted\">\n",
      "       <span _ngcontent-sc271=\"\" class=\"course-level course-level-intermediate\" classname=\"course-level course-level-intermediate\">\n",
      "       </span>\n",
      "       <span _ngcontent-sc271=\"\" class=\"capitalize\">\n",
      "        intermediate\n",
      "       </span>\n",
      "      </span>\n",
      "     </div>\n",
      "    </div>\n",
      "   </div>\n",
      "   <div _ngcontent-sc271=\"\" class=\"card__expander\">\n",
      "    <div _ngcontent-sc271=\"\" class=\"card__expander--summary mb-1\">\n",
      "     <!-- -->\n",
      "    </div>\n",
      "    <hr _ngcontent-sc271=\"\"/>\n",
      "    <div _ngcontent-sc271=\"\" class=\"card__expander--details\">\n",
      "     <div _ngcontent-sc271=\"\" class=\"rating\">\n",
      "      <!-- -->\n",
      "     </div>\n",
      "     <a _ngcontent-sc271=\"\" class=\"button--primary btn\" href=\"/course/data-engineer-nanodegree--nd027\">\n",
      "      Learn More\n",
      "     </a>\n",
      "    </div>\n",
      "   </div>\n",
      "  </div>\n",
      " </ir-catalog-card>\n",
      "</div>\n",
      "\n"
     ]
    }
   ],
   "source": [
    "print(summaries[0].prettify())"
   ]
  },
  {
   "cell_type": "markdown",
   "metadata": {},
   "source": [
    "Look for selectors contain the the courses title and school name text you want to extract. Then, use the `select_one` method on the summary object to pull out the html with those selectors. Afterwards, don't forget to do some extra cleaning to isolate the names (get rid of unnecessary html), as you saw in the last video."
   ]
  },
  {
   "cell_type": "code",
   "execution_count": 8,
   "metadata": {},
   "outputs": [
    {
     "data": {
      "text/plain": [
       "'Data Engineer'"
      ]
     },
     "execution_count": 8,
     "metadata": {},
     "output_type": "execute_result"
    }
   ],
   "source": [
    "# title\n",
    "summaries[0].select_one(\"h3\").get_text().strip()"
   ]
  },
  {
   "cell_type": "code",
   "execution_count": 10,
   "metadata": {},
   "outputs": [
    {
     "data": {
      "text/plain": [
       "'School of Data Science'"
      ]
     },
     "execution_count": 10,
     "metadata": {},
     "output_type": "execute_result"
    }
   ],
   "source": [
    "# school\n",
    "summaries[0].select_one(\"h4\").get_text().strip()"
   ]
  },
  {
   "cell_type": "markdown",
   "metadata": {},
   "source": [
    "## Step 5: Collect names and schools of ALL course listings"
   ]
  },
  {
   "cell_type": "code",
   "execution_count": 19,
   "metadata": {},
   "outputs": [
    {
     "data": {
      "text/plain": [
       "[('Data Engineer', 'School of Data Science'),\n",
       " ('VR Foundations', 'School of Programming'),\n",
       " ('VR Mobile 360', 'School of Programming'),\n",
       " ('VR High-Immersion', 'School of Programming'),\n",
       " ('Google Analytics', 'School Of Business'),\n",
       " ('Artificial Intelligence for Trading', 'School of AI'),\n",
       " ('Python Foundation', 'School of Programming'),\n",
       " ('Data Analyst', 'School of Data Science'),\n",
       " ('Machine Learning Foundation', 'School of AI'),\n",
       " ('AI Programming with Python', 'School of AI'),\n",
       " ('Become an Android Developer', 'School of Programming'),\n",
       " ('Become a Professional Full Stack Developer', 'School of Programming'),\n",
       " ('Become a Data Scientist', 'School of Data Science'),\n",
       " ('Android Basics by Google', 'School of Programming'),\n",
       " ('Artificial Intelligence', 'School of AI'),\n",
       " ('IoT Software Foundation', 'School of Programming'),\n",
       " ('Become a Front End Developer', 'School of Programming'),\n",
       " ('Learn to Code', 'School of Programming'),\n",
       " ('Digital Marketing', 'School Of Business'),\n",
       " ('Robotics Software Engineer', 'School Of Autonomous Systems'),\n",
       " ('Computer Vision', 'School of AI'),\n",
       " ('Intro to Self-Driving Cars Nanodegree', 'School Of Autonomous Systems'),\n",
       " ('Predictive Analytics for Business', 'School Of Business'),\n",
       " ('Become a Professional React Developer', 'School of Programming'),\n",
       " ('Self Driving Car Engineer', 'School Of Autonomous Systems'),\n",
       " ('Natural Language Processing', 'School of AI'),\n",
       " ('Become an iOS Developer', 'School of Programming'),\n",
       " ('Flying Car and Autonomous Flight Engineer Nanodegree',\n",
       "  'School Of Autonomous Systems'),\n",
       " ('Become a Mobile Web Specialist', 'School of Programming'),\n",
       " ('Machine Learning Engineer', 'School of AI'),\n",
       " ('Become a Google Ads expert', 'School Of Business'),\n",
       " ('Design Sprint Foundations', 'School Of Business'),\n",
       " ('Deep Reinforcement Learning', 'School of AI'),\n",
       " ('Deep Learning', 'School of AI'),\n",
       " ('Developing Android Apps', 'School of Programming'),\n",
       " ('Android Basics: User Interface', 'School of Programming'),\n",
       " ('Intro to Computer Science', 'School of Programming'),\n",
       " ('Refresh Your Resume', 'Career Advancement'),\n",
       " ('Deep Learning', 'School of AI'),\n",
       " ('Intro to JavaScript', 'School of Programming'),\n",
       " ('Data Structures & Algorithms in Swift', 'Career Advancement'),\n",
       " ('Intro to Machine Learning', 'School of AI'),\n",
       " ('Intro to HTML and CSS', 'School of Programming'),\n",
       " ('Java Programming Basics', 'School of Programming'),\n",
       " ('Strengthen Your LinkedIn Network & Brand', 'Career Advancement'),\n",
       " ('How to Use Git and GitHub', 'School of Programming'),\n",
       " ('Programming Foundations with Python', 'School of Programming'),\n",
       " ('Intro to Artificial Intelligence', 'School of AI'),\n",
       " ('Craft Your Cover Letter', 'Career Advancement'),\n",
       " ('iOS Interview Prep', 'Career Advancement'),\n",
       " ('Intro to Descriptive Statistics', 'School of AI'),\n",
       " ('Build Native Mobile Apps with Flutter', 'School of Programming'),\n",
       " ('Android Interview Prep', 'Career Advancement'),\n",
       " ('Intro to Data Analysis', 'School of Data Science'),\n",
       " ('Android Basics: User Input', 'School of Programming'),\n",
       " ('How to Build a Startup', 'School Of Business'),\n",
       " ('VR Interview Prep', 'Career Advancement'),\n",
       " ('Intro to Statistics', 'School of Programming'),\n",
       " ('Optimize Your GitHub', 'Career Advancement'),\n",
       " ('Intro to Data Science', 'School of Data Science'),\n",
       " ('Advanced Android App Development', 'School of Programming'),\n",
       " ('Data Science Interview Prep', 'Career Advancement'),\n",
       " ('Android Basics: Multiscreen Apps', 'School of Programming'),\n",
       " ('Full-Stack Interview Prep', 'Career Advancement'),\n",
       " ('Scalable Microservices with Kubernetes', 'School of Programming'),\n",
       " ('Responsive Web Design Fundamentals', 'School of Programming'),\n",
       " ('Linux Command Line Basics', 'School of Programming'),\n",
       " ('Introduction to Computer Vision', 'School of AI'),\n",
       " ('Blockchain Developer Nanodegree program', 'School of Programming'),\n",
       " ('Self-Driving Fundamentals: Featuring Apollo',\n",
       "  'School Of Autonomous Systems'),\n",
       " ('Developing Android Apps with Kotlin', 'School of Programming'),\n",
       " ('Machine Learning', 'School of AI'),\n",
       " ('Marketing Analytics', 'School Of Business'),\n",
       " ('Android Auto Development', 'School of Programming'),\n",
       " ('Android TV and Google Cast Development', 'School of Programming'),\n",
       " ('Intro to Deep Learning with PyTorch', 'School of AI'),\n",
       " ('Intro to TensorFlow for Deep Learning', 'School of AI'),\n",
       " ('Android Wear Development', 'School of Programming'),\n",
       " ('Introduction to Cybersecurity', 'School of Programming'),\n",
       " ('Machine Learning Interview Preparation', 'Career Advancement'),\n",
       " ('C++ For Programmers', 'School of Programming'),\n",
       " ('Front-End Interview Prep', 'Career Advancement'),\n",
       " ('Machine Learning for Trading', 'School of AI'),\n",
       " ('Intro to Algorithms', 'School of Programming'),\n",
       " ('Android Basics: Data Storage', 'School of Programming'),\n",
       " ('UX Design for Mobile Developers', 'School of Programming'),\n",
       " ('Intro to Inferential Statistics', 'School of Data Science'),\n",
       " ('Android Basics: Networking', 'School of Programming'),\n",
       " ('Object Oriented Programming in Java', 'School of Programming'),\n",
       " ('Kotlin Bootcamp for Programmers', 'School of Programming'),\n",
       " ('Data Analysis with R', 'School of AI'),\n",
       " ('Product Design', 'School Of Business'),\n",
       " ('Computer Networking', 'School of Programming'),\n",
       " ('Firebase in a Weekend: Android', 'School of Programming'),\n",
       " ('Intro to Relational Databases', 'School of Programming'),\n",
       " ('Reinforcement Learning', 'School of AI'),\n",
       " ('Version Control with Git', 'School of Programming'),\n",
       " ('Website Performance Optimization', 'School of Programming'),\n",
       " ('Intro to Hadoop and MapReduce', 'School of AI'),\n",
       " ('Kotlin for Android Developers', 'School of Programming'),\n",
       " ('Artificial Intelligence for Robotics', 'School of AI'),\n",
       " ('Introduction to Operating Systems', 'School of Programming'),\n",
       " ('Networking for Web Developers', 'School of Programming'),\n",
       " ('Full Stack Foundations', 'School of Programming'),\n",
       " ('Intro to iOS App Development with Swift', 'School of Programming'),\n",
       " ('Data Structures & Algorithms in Python', 'Career Advancement'),\n",
       " ('Swift for Beginners', 'School of Programming'),\n",
       " ('Object-Oriented JavaScript', 'School of Programming'),\n",
       " ('Intro to Progressive Web Apps', 'School of Programming'),\n",
       " ('Linear Algebra Refresher Course', 'School of AI'),\n",
       " ('GitHub & Collaboration', 'School of Programming'),\n",
       " ('Responsive Images', 'School of Programming'),\n",
       " ('Designing RESTful APIs', 'School of Programming'),\n",
       " ('Intro to HTML and CSS', 'School of Programming'),\n",
       " ('JavaScript Promises', 'School of Programming'),\n",
       " ('ES6 - JavaScript Improved', 'School of Programming'),\n",
       " ('JavaScript Design Patterns', 'School of Programming'),\n",
       " ('Data Wrangling with MongoDB', 'School of Programming'),\n",
       " ('Software Testing', 'School of Programming'),\n",
       " ('Material Design for Android Developers', 'School of Programming'),\n",
       " ('Intro to AJAX', 'School of Programming'),\n",
       " ('A/B Testing', 'School of AI'),\n",
       " ('Intro to DevOps', 'School of Programming'),\n",
       " ('HTML5 Canvas', 'School of Programming'),\n",
       " ('Software Architecture & Design', 'School of Programming'),\n",
       " ('Shell Workshop', 'School of Programming'),\n",
       " ('Intro to Backend', 'School of Programming'),\n",
       " ('Software Development Process', 'School of Programming'),\n",
       " ('Gradle for Android and Java', 'School of Programming'),\n",
       " ('Problem Solving with Advanced Analytics', 'School Of Business'),\n",
       " ('Introduction to Virtual Reality', 'School of Programming'),\n",
       " ('Data Visualization and D3.js', 'School of AI'),\n",
       " ('Intro to jQuery', 'School of Programming'),\n",
       " ('Intro to Psychology', 'School of Programming'),\n",
       " ('Design of Computer Programs', 'School of Programming'),\n",
       " ('Intro to the Design of Everyday Things', 'Skills Covered'),\n",
       " ('JavaScript Testing', 'School of Programming'),\n",
       " ('Offline Web Applications', 'School of Programming'),\n",
       " ('Writing READMEs', 'School of Programming'),\n",
       " ('Interactive 3D Graphics', 'School of Programming'),\n",
       " ('Intro to Information Security', 'School of Programming'),\n",
       " ('Client-Server Communication', 'School of Programming'),\n",
       " ('Configuring Linux Web Servers', 'School of Programming'),\n",
       " ('Authentication & Authorization: OAuth', 'School of Programming'),\n",
       " ('Statistics', 'School of Programming'),\n",
       " ('Browser Rendering Optimization', 'School of Programming'),\n",
       " ('Programming Languages', 'School of Programming'),\n",
       " ('Applied Cryptography', 'School of Programming'),\n",
       " ('Time Series Forecasting', 'School Of Business'),\n",
       " ('Get Your Startup Started', 'School Of Business'),\n",
       " ('HTTP & Web Servers', 'School of Programming'),\n",
       " ('Advanced Operating Systems', 'School of Programming'),\n",
       " ('Database Systems Concepts & Design', 'School of Programming'),\n",
       " ('Data Analysis and Visualization', 'School of Data Science'),\n",
       " ('Android Performance', 'School of Programming'),\n",
       " ('Computability, Complexity & Algorithms', 'School of Programming'),\n",
       " ('Intro to Theoretical Computer Science', 'School of Programming'),\n",
       " ('Google Maps APIs', 'School of Programming'),\n",
       " ('High Performance Computing', 'School of Programming'),\n",
       " ('App Marketing', 'School Of Business'),\n",
       " ('Embedded Systems', 'School of Programming'),\n",
       " ('High Performance Computer Architecture', 'School of Programming'),\n",
       " ('Network Security', 'School of Programming'),\n",
       " ('How to Make an iOS App', 'School of Programming'),\n",
       " ('Swift for Developers', 'School of Programming'),\n",
       " ('Intro to Physics', 'School of Programming'),\n",
       " ('Artificial Intelligence', 'School of AI'),\n",
       " ('Object-Oriented JavaScript', 'School of Programming'),\n",
       " ('Machine Learning: Unsupervised Learning', 'School of AI'),\n",
       " ('Creating an Analytical Dataset', 'School Of Business'),\n",
       " ('Asynchronous JavaScript Requests', 'School of Programming'),\n",
       " ('Localization Essentials', 'School of Programming'),\n",
       " ('Rapid Prototyping', 'School Of Business'),\n",
       " ('Learn Swift Programming Syntax', 'School of Programming'),\n",
       " ('Model Building and Validation', 'School of AI'),\n",
       " ('JavaScript and the DOM', 'School of Programming'),\n",
       " ('Compilers: Theory and Practice', 'School of Programming'),\n",
       " ('Mobile Design and Usability for Android', 'School of Programming'),\n",
       " ('Software Debugging', 'School of Programming'),\n",
       " ('Passwordless Login Solutions for Android', 'School of Programming'),\n",
       " ('2D Game Development with libGDX', 'School of Programming'),\n",
       " ('Big Data Analytics in Healthcare', 'School of AI'),\n",
       " ('A/B Testing for Business Analysts', 'School Of Business'),\n",
       " ('iOS Networking with Swift', 'School of Programming'),\n",
       " ('Building High Conversion Web Forms', 'School of Programming'),\n",
       " ('UIKit Fundamentals', 'School of Programming'),\n",
       " ('Classification Models', 'School Of Business'),\n",
       " ('Firebase Analytics: Android', 'School of Programming'),\n",
       " ('VR Software Development', 'Skills Covered'),\n",
       " ('Knowledge-Based AI: Cognitive Systems', 'School of AI'),\n",
       " ('Differential Equations in Action', 'School Of Autonomous Systems'),\n",
       " ('Computational Photography', 'Skills Covered'),\n",
       " ('Real-Time Analytics with Apache Storm', 'School of AI'),\n",
       " ('Segmentation and Clustering', 'School Of Business'),\n",
       " ('Human-Computer Interaction', 'School of Programming'),\n",
       " ('VR Scenes and Objects', 'Skills Covered'),\n",
       " ('App Monetization', 'School Of Business'),\n",
       " ('Learn Backbone.js', 'School of Programming'),\n",
       " ('Software Analysis & Testing', 'School of Programming'),\n",
       " ('Core ML: Machine Learning for iOS', 'School of Programming'),\n",
       " ('Deploying Applications with Heroku', 'School of Programming'),\n",
       " ('iOS Persistence and Core Data', 'School of Programming'),\n",
       " ('How to Install Android Studio', 'School of Programming'),\n",
       " ('AutoLayout', 'School of Programming'),\n",
       " ('Educational Technology', 'Skills Covered'),\n",
       " ('Tales from the Genome', 'Skills Covered'),\n",
       " ('Mobile Design and Usability for iOS', 'School of Programming'),\n",
       " ('Deploying a Hadoop Cluster', 'School of Programming'),\n",
       " ('Firebase in a Weekend: iOS', 'School of Programming'),\n",
       " ('Server-Side Swift', 'School of Programming'),\n",
       " ('Passwordless Login Solutions for iOS', 'School of Programming'),\n",
       " ('Eigenvectors and Eigenvalues', 'School of AI'),\n",
       " ('Xcode Debugging', 'School of Programming'),\n",
       " ('The MVC Pattern in Ruby', 'School of Programming'),\n",
       " ('Health Informatics in the Cloud', 'Skills Covered'),\n",
       " ('Cyber-Physical Systems Security', 'School of Programming'),\n",
       " ('Dynamic Web Applications with Sinatra', 'School of Programming'),\n",
       " ('Intro to Point & Click App Development', 'School of Programming'),\n",
       " ('Grand Central Dispatch (GCD)', 'School of Programming'),\n",
       " ('Firebase Analytics: iOS', 'School of Programming'),\n",
       " ('How to Make a Platformer Using libGDX', 'School of Programming'),\n",
       " ('Introduction to Graduate Algorithms', 'School of Programming'),\n",
       " ('Engagement & Monetization | Mobile Games', 'School of Programming'),\n",
       " ('Intro to Programming', 'School of Programming'),\n",
       " ('Cyber-Physical Systems Design & Analysis', 'School Of Autonomous Systems'),\n",
       " ('OMSCS Student Orientation', 'Collaboration With')]"
      ]
     },
     "execution_count": 19,
     "metadata": {},
     "output_type": "execute_result"
    }
   ],
   "source": [
    "courses = []\n",
    "for summary in summaries:\n",
    "    title = summary.select_one(\"h3\").get_text().strip()\n",
    "    school = summary.select_one(\"h4\").get_text().strip()\n",
    "    courses.append((title, school))\n",
    "    \n",
    "# printing the courses on udacity\n",
    "courses"
   ]
  },
  {
   "cell_type": "code",
   "execution_count": 20,
   "metadata": {},
   "outputs": [
    {
     "name": "stdout",
     "output_type": "stream",
     "text": [
      "Data Engineer\n",
      "Data Analyst\n",
      "Become a Data Scientist\n",
      "Intro to Data Analysis\n",
      "Intro to Data Science\n",
      "Intro to Inferential Statistics\n",
      "Data Analysis and Visualization\n"
     ]
    }
   ],
   "source": [
    "# list only School of Data Science courses\n",
    "for course in courses:\n",
    "    if course[1] == 'School of Data Science':\n",
    "        print(course[0])"
   ]
  },
  {
   "cell_type": "code",
   "execution_count": 21,
   "metadata": {},
   "outputs": [
    {
     "name": "stdout",
     "output_type": "stream",
     "text": [
      "Artificial Intelligence for Trading\n",
      "Machine Learning Foundation\n",
      "AI Programming with Python\n",
      "Artificial Intelligence\n",
      "Computer Vision\n",
      "Natural Language Processing\n",
      "Machine Learning Engineer\n",
      "Deep Reinforcement Learning\n",
      "Deep Learning\n",
      "Deep Learning\n",
      "Intro to Machine Learning\n",
      "Intro to Artificial Intelligence\n",
      "Intro to Descriptive Statistics\n",
      "Introduction to Computer Vision\n",
      "Machine Learning\n",
      "Intro to Deep Learning with PyTorch\n",
      "Intro to TensorFlow for Deep Learning\n",
      "Machine Learning for Trading\n",
      "Data Analysis with R\n",
      "Reinforcement Learning\n",
      "Intro to Hadoop and MapReduce\n",
      "Artificial Intelligence for Robotics\n",
      "Linear Algebra Refresher Course\n",
      "A/B Testing\n",
      "Data Visualization and D3.js\n",
      "Artificial Intelligence\n",
      "Machine Learning: Unsupervised Learning\n",
      "Model Building and Validation\n",
      "Big Data Analytics in Healthcare\n",
      "Knowledge-Based AI: Cognitive Systems\n",
      "Real-Time Analytics with Apache Storm\n",
      "Eigenvectors and Eigenvalues\n"
     ]
    }
   ],
   "source": [
    "# list only School of AI courses\n",
    "for course in courses:\n",
    "    if course[1] == \"School of AI\":\n",
    "        print(course[0])"
   ]
  },
  {
   "cell_type": "code",
   "execution_count": null,
   "metadata": {
    "collapsed": true
   },
   "outputs": [],
   "source": []
  }
 ],
 "metadata": {
  "kernelspec": {
   "display_name": "Python 3",
   "language": "python",
   "name": "python3"
  },
  "language_info": {
   "codemirror_mode": {
    "name": "ipython",
    "version": 3
   },
   "file_extension": ".py",
   "mimetype": "text/x-python",
   "name": "python",
   "nbconvert_exporter": "python",
   "pygments_lexer": "ipython3",
   "version": "3.6.8"
  }
 },
 "nbformat": 4,
 "nbformat_minor": 2
}
