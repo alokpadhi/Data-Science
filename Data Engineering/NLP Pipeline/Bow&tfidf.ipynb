{
 "cells": [
  {
   "cell_type": "markdown",
   "metadata": {},
   "source": [
    "## Bag of Words and TF-IDF"
   ]
  },
  {
   "cell_type": "markdown",
   "metadata": {},
   "source": [
    "* CountVectorizer: bag of words\n",
    "* TfidfTransformer: TF-IDF values\n",
    "* TfidfVectorizer: Bag of words and Tf-idf"
   ]
  },
  {
   "cell_type": "code",
   "execution_count": 1,
   "metadata": {},
   "outputs": [
    {
     "name": "stdout",
     "output_type": "stream",
     "text": [
      "[nltk_data] Downloading package punkt to /home/alok-kumar/nltk_data...\n",
      "[nltk_data]   Package punkt is already up-to-date!\n",
      "[nltk_data] Downloading package stopwords to /home/alok-\n",
      "[nltk_data]     kumar/nltk_data...\n",
      "[nltk_data]   Package stopwords is already up-to-date!\n",
      "[nltk_data] Downloading package wordnet to /home/alok-\n",
      "[nltk_data]     kumar/nltk_data...\n",
      "[nltk_data]   Package wordnet is already up-to-date!\n"
     ]
    },
    {
     "data": {
      "text/plain": [
       "True"
      ]
     },
     "execution_count": 1,
     "metadata": {},
     "output_type": "execute_result"
    }
   ],
   "source": [
    "import re\n",
    "import nltk\n",
    "from nltk.corpus import stopwords\n",
    "from nltk.stem.wordnet import WordNetLemmatizer\n",
    "from nltk.tokenize import word_tokenize\n",
    "\n",
    "nltk.download('punkt')\n",
    "nltk.download('stopwords')\n",
    "nltk.download('wordnet')"
   ]
  },
  {
   "cell_type": "code",
   "execution_count": 2,
   "metadata": {
    "collapsed": true
   },
   "outputs": [],
   "source": [
    "corpus = [\"The first time you see The Second Renaissance it may look boring.\",\n",
    "        \"Look at it at least twice and definitely watch part 2.\",\n",
    "        \"It will change your view of the matrix.\",\n",
    "        \"Are the human people the ones who started the war?\",\n",
    "        \"Is AI a bad thing ?\"]"
   ]
  },
  {
   "cell_type": "markdown",
   "metadata": {},
   "source": [
    "### stopword removal and lemmatize"
   ]
  },
  {
   "cell_type": "code",
   "execution_count": 3,
   "metadata": {
    "collapsed": true
   },
   "outputs": [],
   "source": [
    "stop_words = stopwords.words('english')\n",
    "lemmatizer = WordNetLemmatizer()"
   ]
  },
  {
   "cell_type": "markdown",
   "metadata": {},
   "source": [
    "Use the skills you learned so far to create a function tokenize that takes in a string of text and applies the following:\n",
    "\n",
    "    case normalization (convert to all lowercase)\n",
    "    punctuation removal\n",
    "    tokenization, lemmatization, and stop word removal using nltk\n"
   ]
  },
  {
   "cell_type": "code",
   "execution_count": 10,
   "metadata": {},
   "outputs": [],
   "source": [
    "def tokenize(text):\n",
    "    \"\"\"\n",
    "    Input: string of text\n",
    "    Output: clean text with case normalization, punctuation removal, tokenization, lemmatization and stop word removal\n",
    "    \n",
    "    \"\"\"\n",
    "    # case normalization\n",
    "    text = text.lower()\n",
    "    \n",
    "    # punctuation removal\n",
    "    text = re.sub(r'[^\\w\\s\\d]','', text)\n",
    "    \n",
    "    # tokenization\n",
    "    text_tokens = word_tokenize(text)\n",
    "    \n",
    "    # lemmatization and stop word removal\n",
    "    tokens = [lemmatizer.lemmatize(word) for word in text_tokens if word not in stop_words]\n",
    "    \n",
    "    return tokens"
   ]
  },
  {
   "cell_type": "markdown",
   "metadata": {},
   "source": [
    "## CountVectorizer: Bag of Words"
   ]
  },
  {
   "cell_type": "code",
   "execution_count": 11,
   "metadata": {
    "collapsed": true
   },
   "outputs": [],
   "source": [
    "from sklearn.feature_extraction.text import CountVectorizer\n",
    "\n",
    "# initialize the vectorizer object\n",
    "vect = CountVectorizer(tokenizer=tokenize)"
   ]
  },
  {
   "cell_type": "code",
   "execution_count": 12,
   "metadata": {
    "collapsed": true
   },
   "outputs": [],
   "source": [
    "x = vect.fit_transform(corpus)"
   ]
  },
  {
   "cell_type": "code",
   "execution_count": 13,
   "metadata": {},
   "outputs": [
    {
     "data": {
      "text/plain": [
       "array([[0, 0, 0, 1, 0, 0, 1, 0, 0, 1, 0, 1, 0, 0, 0, 1, 1, 1, 0, 0, 1, 0,\n",
       "        0, 0, 0],\n",
       "       [1, 0, 0, 0, 0, 1, 0, 0, 1, 1, 0, 0, 0, 1, 0, 0, 0, 0, 0, 0, 0, 1,\n",
       "        0, 0, 1],\n",
       "       [0, 0, 0, 0, 1, 0, 0, 0, 0, 0, 1, 0, 0, 0, 0, 0, 0, 0, 0, 0, 0, 0,\n",
       "        1, 0, 0],\n",
       "       [0, 0, 0, 0, 0, 0, 0, 1, 0, 0, 0, 0, 1, 0, 1, 0, 0, 0, 1, 0, 0, 0,\n",
       "        0, 1, 0],\n",
       "       [0, 1, 1, 0, 0, 0, 0, 0, 0, 0, 0, 0, 0, 0, 0, 0, 0, 0, 0, 1, 0, 0,\n",
       "        0, 0, 0]], dtype=int64)"
      ]
     },
     "execution_count": 13,
     "metadata": {},
     "output_type": "execute_result"
    }
   ],
   "source": [
    "x.toarray()"
   ]
  },
  {
   "cell_type": "code",
   "execution_count": 22,
   "metadata": {},
   "outputs": [
    {
     "data": {
      "text/plain": [
       "{'2': 0,\n",
       " 'ai': 1,\n",
       " 'bad': 2,\n",
       " 'boring': 3,\n",
       " 'change': 4,\n",
       " 'definitely': 5,\n",
       " 'first': 6,\n",
       " 'human': 7,\n",
       " 'least': 8,\n",
       " 'look': 9,\n",
       " 'matrix': 10,\n",
       " 'may': 11,\n",
       " 'one': 12,\n",
       " 'part': 13,\n",
       " 'people': 14,\n",
       " 'renaissance': 15,\n",
       " 'second': 16,\n",
       " 'see': 17,\n",
       " 'started': 18,\n",
       " 'thing': 19,\n",
       " 'time': 20,\n",
       " 'twice': 21,\n",
       " 'view': 22,\n",
       " 'war': 23,\n",
       " 'watch': 24}"
      ]
     },
     "execution_count": 22,
     "metadata": {},
     "output_type": "execute_result"
    }
   ],
   "source": [
    "# check the vocabulary of vect\n",
    "vect.vocabulary_"
   ]
  },
  {
   "cell_type": "markdown",
   "metadata": {},
   "source": [
    "## Tfidf Transformer"
   ]
  },
  {
   "cell_type": "code",
   "execution_count": 15,
   "metadata": {
    "collapsed": true
   },
   "outputs": [],
   "source": [
    "from sklearn.feature_extraction.text import TfidfTransformer\n",
    "\n",
    "transformer = TfidfTransformer(smooth_idf=False)"
   ]
  },
  {
   "cell_type": "code",
   "execution_count": 16,
   "metadata": {
    "collapsed": true
   },
   "outputs": [],
   "source": [
    "# use the count vectorizer to compute tf-idf values\n",
    "tfidf = transformer.fit_transform(x)"
   ]
  },
  {
   "cell_type": "code",
   "execution_count": 17,
   "metadata": {},
   "outputs": [
    {
     "data": {
      "text/plain": [
       "array([[ 0.        ,  0.        ,  0.        ,  0.36419547,  0.        ,\n",
       "         0.        ,  0.36419547,  0.        ,  0.        ,  0.26745392,\n",
       "         0.        ,  0.36419547,  0.        ,  0.        ,  0.        ,\n",
       "         0.36419547,  0.36419547,  0.36419547,  0.        ,  0.        ,\n",
       "         0.36419547,  0.        ,  0.        ,  0.        ,  0.        ],\n",
       "       [ 0.39105193,  0.        ,  0.        ,  0.        ,  0.        ,\n",
       "         0.39105193,  0.        ,  0.        ,  0.39105193,  0.28717648,\n",
       "         0.        ,  0.        ,  0.        ,  0.39105193,  0.        ,\n",
       "         0.        ,  0.        ,  0.        ,  0.        ,  0.        ,\n",
       "         0.        ,  0.39105193,  0.        ,  0.        ,  0.39105193],\n",
       "       [ 0.        ,  0.        ,  0.        ,  0.        ,  0.57735027,\n",
       "         0.        ,  0.        ,  0.        ,  0.        ,  0.        ,\n",
       "         0.57735027,  0.        ,  0.        ,  0.        ,  0.        ,\n",
       "         0.        ,  0.        ,  0.        ,  0.        ,  0.        ,\n",
       "         0.        ,  0.        ,  0.57735027,  0.        ,  0.        ],\n",
       "       [ 0.        ,  0.        ,  0.        ,  0.        ,  0.        ,\n",
       "         0.        ,  0.        ,  0.4472136 ,  0.        ,  0.        ,\n",
       "         0.        ,  0.        ,  0.4472136 ,  0.        ,  0.4472136 ,\n",
       "         0.        ,  0.        ,  0.        ,  0.4472136 ,  0.        ,\n",
       "         0.        ,  0.        ,  0.        ,  0.4472136 ,  0.        ],\n",
       "       [ 0.        ,  0.57735027,  0.57735027,  0.        ,  0.        ,\n",
       "         0.        ,  0.        ,  0.        ,  0.        ,  0.        ,\n",
       "         0.        ,  0.        ,  0.        ,  0.        ,  0.        ,\n",
       "         0.        ,  0.        ,  0.        ,  0.        ,  0.57735027,\n",
       "         0.        ,  0.        ,  0.        ,  0.        ,  0.        ]])"
      ]
     },
     "execution_count": 17,
     "metadata": {},
     "output_type": "execute_result"
    }
   ],
   "source": [
    "tfidf.toarray()"
   ]
  },
  {
   "cell_type": "markdown",
   "metadata": {},
   "source": [
    "## Tfidf Vectorizer\n",
    "\n",
    "Tfidfvectorizer = countvectorizer + tfidftransformer"
   ]
  },
  {
   "cell_type": "code",
   "execution_count": 18,
   "metadata": {
    "collapsed": true
   },
   "outputs": [],
   "source": [
    "from sklearn.feature_extraction.text import TfidfVectorizer\n",
    "\n",
    "vectorizer = TfidfVectorizer()"
   ]
  },
  {
   "cell_type": "code",
   "execution_count": 19,
   "metadata": {
    "collapsed": true
   },
   "outputs": [],
   "source": [
    "# compute bag of words count and tf-idf values\n",
    "X = vectorizer.fit_transform(corpus)"
   ]
  },
  {
   "cell_type": "code",
   "execution_count": 20,
   "metadata": {},
   "outputs": [
    {
     "data": {
      "text/plain": [
       "array([[ 0.        ,  0.        ,  0.        ,  0.        ,  0.        ,\n",
       "         0.30298183,  0.        ,  0.        ,  0.30298183,  0.        ,\n",
       "         0.        ,  0.20291046,  0.        ,  0.24444384,  0.        ,\n",
       "         0.30298183,  0.        ,  0.        ,  0.        ,  0.        ,\n",
       "         0.30298183,  0.30298183,  0.30298183,  0.        ,  0.40582093,\n",
       "         0.        ,  0.30298183,  0.        ,  0.        ,  0.        ,\n",
       "         0.        ,  0.        ,  0.        ,  0.30298183,  0.        ],\n",
       "       [ 0.        ,  0.30015782,  0.        ,  0.60031564,  0.        ,\n",
       "         0.        ,  0.        ,  0.30015782,  0.        ,  0.        ,\n",
       "         0.        ,  0.20101919,  0.30015782,  0.24216544,  0.        ,\n",
       "         0.        ,  0.        ,  0.        ,  0.30015782,  0.        ,\n",
       "         0.        ,  0.        ,  0.        ,  0.        ,  0.        ,\n",
       "         0.        ,  0.        ,  0.30015782,  0.        ,  0.        ,\n",
       "         0.30015782,  0.        ,  0.        ,  0.        ,  0.        ],\n",
       "       [ 0.        ,  0.        ,  0.        ,  0.        ,  0.        ,\n",
       "         0.        ,  0.38077552,  0.        ,  0.        ,  0.        ,\n",
       "         0.        ,  0.25500981,  0.        ,  0.        ,  0.38077552,\n",
       "         0.        ,  0.38077552,  0.        ,  0.        ,  0.        ,\n",
       "         0.        ,  0.        ,  0.        ,  0.        ,  0.25500981,\n",
       "         0.        ,  0.        ,  0.        ,  0.38077552,  0.        ,\n",
       "         0.        ,  0.        ,  0.38077552,  0.        ,  0.38077552],\n",
       "       [ 0.        ,  0.        ,  0.30101067,  0.        ,  0.        ,\n",
       "         0.        ,  0.        ,  0.        ,  0.        ,  0.30101067,\n",
       "         0.        ,  0.        ,  0.        ,  0.        ,  0.        ,\n",
       "         0.        ,  0.        ,  0.30101067,  0.        ,  0.30101067,\n",
       "         0.        ,  0.        ,  0.        ,  0.30101067,  0.60477106,\n",
       "         0.        ,  0.        ,  0.        ,  0.        ,  0.30101067,\n",
       "         0.        ,  0.30101067,  0.        ,  0.        ,  0.        ],\n",
       "       [ 0.5       ,  0.        ,  0.        ,  0.        ,  0.5       ,\n",
       "         0.        ,  0.        ,  0.        ,  0.        ,  0.        ,\n",
       "         0.5       ,  0.        ,  0.        ,  0.        ,  0.        ,\n",
       "         0.        ,  0.        ,  0.        ,  0.        ,  0.        ,\n",
       "         0.        ,  0.        ,  0.        ,  0.        ,  0.        ,\n",
       "         0.5       ,  0.        ,  0.        ,  0.        ,  0.        ,\n",
       "         0.        ,  0.        ,  0.        ,  0.        ,  0.        ]])"
      ]
     },
     "execution_count": 20,
     "metadata": {},
     "output_type": "execute_result"
    }
   ],
   "source": [
    "X.toarray()"
   ]
  },
  {
   "cell_type": "code",
   "execution_count": null,
   "metadata": {
    "collapsed": true
   },
   "outputs": [],
   "source": []
  }
 ],
 "metadata": {
  "kernelspec": {
   "display_name": "Python 3",
   "language": "python",
   "name": "python3"
  },
  "language_info": {
   "codemirror_mode": {
    "name": "ipython",
    "version": 3
   },
   "file_extension": ".py",
   "mimetype": "text/x-python",
   "name": "python",
   "nbconvert_exporter": "python",
   "pygments_lexer": "ipython3",
   "version": "3.6.8"
  }
 },
 "nbformat": 4,
 "nbformat_minor": 2
}
